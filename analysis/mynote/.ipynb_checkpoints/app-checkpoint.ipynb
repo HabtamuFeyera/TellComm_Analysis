{
 "cells": [
  {
   "cell_type": "code",
   "execution_count": 1,
   "id": "5e40d26c",
   "metadata": {},
   "outputs": [
    {
     "ename": "SyntaxError",
     "evalue": "invalid syntax (3875064834.py, line 10)",
     "output_type": "error",
     "traceback": [
      "\u001b[0;36m  Cell \u001b[0;32mIn[1], line 10\u001b[0;36m\u001b[0m\n\u001b[0;31m    sample_data = [/* My sample user data here */]\u001b[0m\n\u001b[0m                   ^\u001b[0m\n\u001b[0;31mSyntaxError\u001b[0m\u001b[0;31m:\u001b[0m invalid syntax\n"
     ]
    }
   ],
   "source": [
    "# app.py\n",
    "\n",
    "import streamlit as st\n",
    "from mynote.user_overview import UserOverviewAnalysis\n",
    "from mynote.user_engagement import UserEngagementAnalysis\n",
    "from mynote.user_experience import UserExperienceAnalysis\n",
    "from mynote.user_satisfaction import UserSatisfactionAnalysis\n",
    "\n",
    "# Sample data for demonstration purposes\n",
    "sample_data = [/* My sample user data here */]\n",
    "\n",
    "# Sidebar for user input\n",
    "selected_analysis = st.sidebar.selectbox(\"Select Analysis\", [\"User Overview\", \"User Engagement\", \"User Experience\", \"User Satisfaction\"])\n",
    "\n",
    "# Perform the selected analysis\n",
    "if selected_analysis == \"User Overview\":\n",
    "    analysis = UserOverviewAnalysis(sample_data)\n",
    "elif selected_analysis == \"User Engagement\":\n",
    "    analysis = UserEngagementAnalysis(sample_data)\n",
    "elif selected_analysis == \"User Experience\":\n",
    "    analysis = UserExperienceAnalysis(sample_data)\n",
    "elif selected_analysis == \"User Satisfaction\":\n",
    "    analysis = UserSatisfactionAnalysis(sample_data)\n",
    "\n",
    "# Display the analysis result\n",
    "st.title(f\"{selected_analysis} Analysis\")\n",
    "result = analysis.perform_analysis()\n",
    "st.write(result)\n"
   ]
  },
  {
   "cell_type": "code",
   "execution_count": 1,
   "id": "c515ced1",
   "metadata": {},
   "outputs": [
    {
     "ename": "ModuleNotFoundError",
     "evalue": "No module named 'mynote'",
     "output_type": "error",
     "traceback": [
      "\u001b[0;31m---------------------------------------------------------------------------\u001b[0m",
      "\u001b[0;31mModuleNotFoundError\u001b[0m                       Traceback (most recent call last)",
      "Cell \u001b[0;32mIn[1], line 6\u001b[0m\n\u001b[1;32m      4\u001b[0m \u001b[38;5;28;01mimport\u001b[39;00m \u001b[38;5;21;01mpandas\u001b[39;00m \u001b[38;5;28;01mas\u001b[39;00m \u001b[38;5;21;01mpd\u001b[39;00m\n\u001b[1;32m      5\u001b[0m \u001b[38;5;28;01mfrom\u001b[39;00m \u001b[38;5;21;01msqlalchemy\u001b[39;00m \u001b[38;5;28;01mimport\u001b[39;00m create_engine\n\u001b[0;32m----> 6\u001b[0m \u001b[38;5;28;01mfrom\u001b[39;00m \u001b[38;5;21;01mmynote\u001b[39;00m\u001b[38;5;21;01m.\u001b[39;00m\u001b[38;5;21;01muser_overview\u001b[39;00m \u001b[38;5;28;01mimport\u001b[39;00m UserOverviewAnalysis\n\u001b[1;32m      7\u001b[0m \u001b[38;5;28;01mfrom\u001b[39;00m \u001b[38;5;21;01mmynote\u001b[39;00m\u001b[38;5;21;01m.\u001b[39;00m\u001b[38;5;21;01muser_engagement\u001b[39;00m \u001b[38;5;28;01mimport\u001b[39;00m UserEngagementAnalysis\n\u001b[1;32m      8\u001b[0m \u001b[38;5;28;01mfrom\u001b[39;00m \u001b[38;5;21;01mmynote\u001b[39;00m\u001b[38;5;21;01m.\u001b[39;00m\u001b[38;5;21;01muser_experience\u001b[39;00m \u001b[38;5;28;01mimport\u001b[39;00m UserExperienceAnalysis\n",
      "\u001b[0;31mModuleNotFoundError\u001b[0m: No module named 'mynote'"
     ]
    }
   ],
   "source": [
    "# app.py\n",
    "\n",
    "import streamlit as st\n",
    "import pandas as pd\n",
    "from sqlalchemy import create_engine\n",
    "from mynote.user_overview import UserOverviewAnalysis\n",
    "from mynote.user_engagement import UserEngagementAnalysis\n",
    "from mynote.user_experience import UserExperienceAnalysis\n",
    "from mynote.user_satisfaction import UserSatisfactionAnalysis\n",
    "\n",
    "# Database connection parameters\n",
    "db_params = {\n",
    "    'dbname': 'week1',\n",
    "    'user': 'postgres',\n",
    "    'password': 'habte',\n",
    "    'host': 'localhost',\n",
    "    'port': '5432'\n",
    "}\n",
    "\n",
    "# Create an SQLAlchemy engine\n",
    "engine = create_engine(f'postgresql+psycopg2://{db_params[\"user\"]}:{db_params[\"password\"]}@{db_params[\"host\"]}:{db_params[\"port\"]}/{db_params[\"dbname\"]}')\n",
    "\n",
    "# Sidebar for user input\n",
    "selected_analysis = st.sidebar.selectbox(\"Select Analysis\", [\"User Overview\", \"User Engagement\", \"User Experience\", \"User Satisfaction\"])\n",
    "\n",
    "# Perform the selected analysis\n",
    "if selected_analysis == \"User Overview\":\n",
    "    # Assuming your analysis class accepts a DataFrame as an argument\n",
    "    analysis = UserOverviewAnalysis(mydata)\n",
    "elif selected_analysis == \"User Engagement\":\n",
    "    analysis = UserEngagementAnalysis(mydata)\n",
    "elif selected_analysis == \"User Experience\":\n",
    "    analysis = UserExperienceAnalysis(mydata)\n",
    "elif selected_analysis == \"User Satisfaction\":\n",
    "    analysis = UserSatisfactionAnalysis(mydata)\n",
    "\n",
    "# Display the analysis result\n",
    "st.title(f\"{selected_analysis} Analysis\")\n",
    "result = analysis.perform_analysis()\n",
    "st.write(result)\n"
   ]
  },
  {
   "cell_type": "code",
   "execution_count": null,
   "id": "9ab3f79e",
   "metadata": {},
   "outputs": [],
   "source": []
  }
 ],
 "metadata": {
  "kernelspec": {
   "display_name": "Python 3 (ipykernel)",
   "language": "python",
   "name": "python3"
  },
  "language_info": {
   "codemirror_mode": {
    "name": "ipython",
    "version": 3
   },
   "file_extension": ".py",
   "mimetype": "text/x-python",
   "name": "python",
   "nbconvert_exporter": "python",
   "pygments_lexer": "ipython3",
   "version": "3.11.5"
  }
 },
 "nbformat": 4,
 "nbformat_minor": 5
}
